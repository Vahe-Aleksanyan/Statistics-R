{
  "nbformat": 4,
  "nbformat_minor": 0,
  "metadata": {
    "colab": {
      "provenance": []
    },
    "kernelspec": {
      "name": "python3",
      "display_name": "Python 3"
    },
    "language_info": {
      "name": "python"
    }
  },
  "cells": [
    {
      "cell_type": "code",
      "execution_count": 5,
      "metadata": {
        "colab": {
          "base_uri": "https://localhost:8080/"
        },
        "id": "MfB7ToUw0Mjm",
        "outputId": "51d60f03-0936-444e-a1f8-c17c463ce93a"
      },
      "outputs": [
        {
          "output_type": "stream",
          "name": "stdout",
          "text": [
            "Levene's Test for Equality of Variances:\n",
            "Test Statistic: 1.0015696469520645\n",
            "P-value: 0.3249353428522768\n",
            "Fail to reject the null hypothesis: Variances are equal.\n"
          ]
        }
      ],
      "source": [
        "#pr 1 c\n",
        "import numpy as np\n",
        "from scipy.stats import levene\n",
        "\n",
        "# Data for Department A and Department B\n",
        "department_A = np.array([110, 100, 101, 95, 105, 104, 101, 96, 98, 97, 99, 95, 102, 100, 98, 94])\n",
        "department_B = np.array([82, 105, 97, 105, 104, 102, 102, 91, 102, 103, 107, 101, 107, 99, 104, 98])\n",
        "\n",
        "# Perform Levene's test for equality of variances\n",
        "statistic, p_value = levene(department_A, department_B, center='mean')  # Using mean as centering method\n",
        "\n",
        "# Output the results\n",
        "print(\"Levene's Test for Equality of Variances:\")\n",
        "print(\"Test Statistic:\", statistic)\n",
        "print(\"P-value:\", p_value)\n",
        "\n",
        "# Compare with significance level (alpha = 0.05)\n",
        "alpha = 0.05\n",
        "if p_value < alpha:\n",
        "    print(\"Reject the null hypothesis: Variances are not equal.\")\n",
        "else:\n",
        "    print(\"Fail to reject the null hypothesis: Variances are equal.\")\n"
      ]
    },
    {
      "cell_type": "code",
      "source": [
        "#pr 1 d\n",
        "from scipy.stats import ttest_ind\n",
        "\n",
        "# Data for Department A and Department B\n",
        "department_A = np.array([110, 100, 101, 95, 105, 104, 101, 96, 98, 97, 99, 95, 102, 100, 98, 94])\n",
        "department_B = np.array([82, 105, 97, 105, 104, 102, 102, 91, 102, 103, 107, 101, 107, 99, 104, 98])\n",
        "\n",
        "# Perform two-sample t-test\n",
        "t_statistic, p_value = ttest_ind(department_A, department_B)\n",
        "\n",
        "# Output the results\n",
        "print(\"Two-Sample T-Test:\")\n",
        "print(\"Test Statistic:\", t_statistic)\n",
        "print(\"P-value:\", p_value)\n",
        "\n",
        "# Compare with significance level (alpha = 0.05)\n",
        "alpha = 0.05\n",
        "if p_value < alpha:\n",
        "    print(\"Reject the null hypothesis: There is a significant difference in the average productivity levels of the two departments.\")\n",
        "else:\n",
        "    print(\"Fail to reject the null hypothesis: There is not sufficient evidence to suggest a significant difference in the average productivity levels of the two departments.\")\n"
      ],
      "metadata": {
        "colab": {
          "base_uri": "https://localhost:8080/"
        },
        "id": "O4VNUocx0NrY",
        "outputId": "7cd7d494-debc-409e-ebca-9b9464011830"
      },
      "execution_count": 4,
      "outputs": [
        {
          "output_type": "stream",
          "name": "stdout",
          "text": [
            "Two-Sample T-Test:\n",
            "Test Statistic: -0.4565972695005828\n",
            "P-value: 0.6512493348727447\n",
            "Fail to reject the null hypothesis: There is not sufficient evidence to suggest a significant difference in the average productivity levels of the two departments.\n"
          ]
        }
      ]
    },
    {
      "cell_type": "code",
      "source": [
        "#pr 2 a\n",
        "\n",
        "from scipy.stats import f_oneway\n",
        "\n",
        "# Data for Model A, Model B, and Model C\n",
        "model_A = [28.6, 29.9, 27.2, 27.8, 27.7]\n",
        "model_B = [28.1, 30.6, 31.8, 30.1, 29.4]\n",
        "model_C = [25.5, 26.1, 28.7, 27.1, 26.7]\n",
        "\n",
        "# Perform one-way ANOVA test\n",
        "f_statistic, p_value = f_oneway(model_A, model_B, model_C)\n",
        "\n",
        "# Output the results\n",
        "print(\"One-Way ANOVA Test:\")\n",
        "print(\"F-statistic:\", f_statistic)\n",
        "print(\"P-value:\", p_value)\n",
        "\n",
        "# Compare with significance level (alpha = 0.05)\n",
        "alpha = 0.05\n",
        "if p_value < alpha:\n",
        "    print(\"Reject the null hypothesis: There is a significant difference in average fuel efficiency among the car models.\")\n",
        "else:\n",
        "    print(\"Fail to reject the null hypothesis: There is not sufficient evidence to suggest a significant difference in average fuel efficiency among the car models.\")\n",
        "\n"
      ],
      "metadata": {
        "colab": {
          "base_uri": "https://localhost:8080/"
        },
        "id": "r2s975p33cb8",
        "outputId": "e02d908b-2587-4904-b544-ce01c2d402f2"
      },
      "execution_count": 6,
      "outputs": [
        {
          "output_type": "stream",
          "name": "stdout",
          "text": [
            "One-Way ANOVA Test:\n",
            "F-statistic: 8.496875000000001\n",
            "P-value: 0.005026447341351427\n",
            "Reject the null hypothesis: There is a significant difference in average fuel efficiency among the car models.\n"
          ]
        }
      ]
    },
    {
      "cell_type": "code",
      "source": [
        "# Pr 3\n",
        "from scipy.stats import chi2_contingency\n",
        "\n",
        "# Observed and expected frequencies\n",
        "observed = [60, 66, 40, 34]\n",
        "expected = [total_people / len(observed)] * len(observed)\n",
        "\n",
        "# Create a contingency table\n",
        "contingency_table = [observed, expected]\n",
        "\n",
        "# Perform chi-square goodness-of-fit test\n",
        "chi2_statistic, p_value, _, _ = chi2_contingency(contingency_table)\n",
        "\n",
        "# Output the results\n",
        "print(\"Chi-Square Goodness-of-Fit Test:\")\n",
        "print(\"Chi-Square Statistic:\", chi2_statistic)\n",
        "print(\"P-value:\", p_value)\n",
        "\n",
        "# Compare with significance level (alpha = 0.05)\n",
        "alpha = 0.05\n",
        "if p_value < alpha:\n",
        "    print(\"Reject the null hypothesis: There is evidence to suggest that the ice cream flavor preferences are not equally distributed among the population.\")\n",
        "else:\n",
        "    print(\"Fail to reject the null hypothesis: There is not sufficient evidence to suggest that the ice cream flavor preferences are not equally distributed among the population.\")\n"
      ],
      "metadata": {
        "colab": {
          "base_uri": "https://localhost:8080/"
        },
        "id": "st8glItx6R8W",
        "outputId": "e9604fc3-abd7-4586-df4c-c3ca0a6688d7"
      },
      "execution_count": 9,
      "outputs": [
        {
          "output_type": "stream",
          "name": "stdout",
          "text": [
            "Chi-Square Goodness-of-Fit Test:\n",
            "Chi-Square Statistic: 7.274717619545205\n",
            "P-value: 0.06363840910583171\n",
            "Fail to reject the null hypothesis: There is not sufficient evidence to suggest that the ice cream flavor preferences are not equally distributed among the population.\n"
          ]
        }
      ]
    },
    {
      "cell_type": "code",
      "source": [
        "# pr 4\n",
        "from scipy.stats import chi2_contingency\n",
        "\n",
        "# Observed frequencies\n",
        "observed = [[120, 100, 80],\n",
        "            [70, 110, 60],\n",
        "            [50, 60, 30]]\n",
        "\n",
        "# Perform chi-square test for independence\n",
        "chi2_statistic, p_value, _, _ = chi2_contingency(observed)\n",
        "\n",
        "# Output the results\n",
        "print(\"Chi-Square Test for Independence:\")\n",
        "print(\"Chi-Square Statistic:\", chi2_statistic)\n",
        "print(\"P-value:\", p_value)\n",
        "\n",
        "# Compare with significance level (alpha = 0.05)\n",
        "alpha = 0.05\n",
        "if p_value < alpha:\n",
        "    print(\"Reject the null hypothesis: There is evidence to suggest a relationship between the preference for social media platform and the type of smartphone operating system.\")\n",
        "else:\n",
        "    print(\"Fail to reject the null hypothesis: There is not sufficient evidence to suggest a relationship between the preference for social media platform and the type of smartphone operating system.\")\n"
      ],
      "metadata": {
        "colab": {
          "base_uri": "https://localhost:8080/"
        },
        "id": "Bkh9YYB_7fDk",
        "outputId": "e3ca6524-dc56-4c3c-9c4c-511150febf96"
      },
      "execution_count": 10,
      "outputs": [
        {
          "output_type": "stream",
          "name": "stdout",
          "text": [
            "Chi-Square Test for Independence:\n",
            "Chi-Square Statistic: 11.177910052910054\n",
            "P-value: 0.0246356607907616\n",
            "Reject the null hypothesis: There is evidence to suggest a relationship between the preference for social media platform and the type of smartphone operating system.\n"
          ]
        }
      ]
    },
    {
      "cell_type": "code",
      "source": [
        "# pr 5\n",
        "\n",
        "\n",
        "# Observed frequencies\n",
        "observed = [257, 497, 191, 50, 5]\n",
        "\n",
        "# Expected frequencies (calculated from the given percentages)\n",
        "expected = [23, 14, 44, 16, 3]\n",
        "\n",
        "# Perform chi-square goodness-of-fit test\n",
        "chi2_statistic, p_value, _, _ = chi2_contingency(observed)\n",
        "\n",
        "# Output the results\n",
        "print(\"Chi-Square Goodness-of-Fit Test:\")\n",
        "print(\"Chi-Square Statistic:\", chi2_statistic)\n",
        "print(\"P-value:\", p_value)\n",
        "\n",
        "# Compare with significance level (alpha = 0.01)\n",
        "alpha = 0.01\n",
        "if p_value < alpha:\n",
        "    print(\"Reject the null hypothesis: There is evidence to suggest that the distribution of the number of children per family in Yerevan is different from the distribution for the Armenian family population as a whole.\")\n",
        "else:\n",
        "    print(\"Fail to reject the null hypothesis: There is not sufficient evidence to suggest a difference in distributions.\")\n"
      ],
      "metadata": {
        "colab": {
          "base_uri": "https://localhost:8080/"
        },
        "id": "xx7xwFOk8Vm3",
        "outputId": "cd071ed8-8775-446f-adbc-513015eabb35"
      },
      "execution_count": 13,
      "outputs": [
        {
          "output_type": "stream",
          "name": "stdout",
          "text": [
            "Chi-Square Goodness-of-Fit Test:\n",
            "Chi-Square Statistic: 0.0\n",
            "P-value: 1.0\n",
            "Fail to reject the null hypothesis: There is not sufficient evidence to suggest a difference in distributions.\n"
          ]
        }
      ]
    }
  ]
}